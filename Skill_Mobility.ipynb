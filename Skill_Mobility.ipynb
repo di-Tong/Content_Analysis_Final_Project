{
 "cells": [
  {
   "cell_type": "code",
   "execution_count": 1,
   "metadata": {},
   "outputs": [],
   "source": [
    "import pandas as pd\n",
    "from collections import defaultdict\n",
    "import operator\n",
    "from collections import Counter\n",
    "import string\n",
    "import numpy as np\n",
    "import sys\n",
    "from scipy.stats import pearsonr \n",
    "import pylab \n",
    "import seaborn as sns\n",
    "import matplotlib.pyplot as plt\n",
    "import statsmodels.api as sm\n",
    "from numpy import dot\n",
    "from numpy.linalg import norm\n",
    "import sklearn.metrics.pairwise\n",
    "from statistics import mean, stdev\n",
    "import math"
   ]
  },
  {
   "cell_type": "code",
   "execution_count": 8,
   "metadata": {},
   "outputs": [],
   "source": [
    "partition = defaultdict(lambda:[])\n",
    "skillset = []\n",
    "sp = {}\n",
    "with open('/Users/ditong/Documents/skillProject/description/data/SOC/partition_0.0_0.0_6_0.51.txt','r') as f:\n",
    "    for line in f:\n",
    "        skill = line.split('\\t')[0]\n",
    "        skillset.append(skill)\n",
    "        group = int(line.split('\\t')[1])\n",
    "        partition[group].append(skill)\n",
    "        sp[skill] = group"
   ]
  },
  {
   "cell_type": "code",
   "execution_count": 3,
   "metadata": {},
   "outputs": [
    {
     "data": {
      "text/plain": [
       "(6, 10296)"
      ]
     },
     "execution_count": 3,
     "metadata": {},
     "output_type": "execute_result"
    }
   ],
   "source": [
    "len(partition),len(sp)"
   ]
  },
  {
   "cell_type": "code",
   "execution_count": 2,
   "metadata": {},
   "outputs": [],
   "source": [
    "# year job skill frequency\n",
    "ysjf = defaultdict(lambda:defaultdict(lambda:defaultdict(lambda:0)))\n",
    "with open('/Users/ditong/Documents/skillProject/description/data/SOC/occ_skill_freq.txt', 'r') as f:\n",
    "    for line in f:\n",
    "        line_lst = line.split(\"\\t\")\n",
    "        job = line_lst[0]\n",
    "        year = int(line_lst[1])\n",
    "        skills = line_lst[2:]\n",
    "        if year != 2019:\n",
    "            for skill_freq in skills:\n",
    "                skill = skill_freq.split('_')[0].lower()\n",
    "                freq = int(skill_freq.split('_')[1])\n",
    "                ysjf[year][skill][job] = freq"
   ]
  },
  {
   "cell_type": "code",
   "execution_count": 3,
   "metadata": {},
   "outputs": [],
   "source": [
    "# read in the rca score for each skill for each occupation\n",
    "syorca = defaultdict(lambda:defaultdict(lambda:defaultdict(lambda:0)))\n",
    "syopmi = defaultdict(lambda:defaultdict(lambda:defaultdict(lambda:0)))\n",
    "with open('/Users/ditong/Documents/skillProject/description/data/SOC/occ_skill_rca.txt', 'r') as f:\n",
    "    for line in f:\n",
    "        line_lst = line[:-1].split('\\t')\n",
    "        occ = line_lst[0]\n",
    "        year = int(line_lst[1])\n",
    "        skills = line_lst[2:]\n",
    "        for s_rca in skills:\n",
    "            skill = s_rca.split('_')[0].lower()\n",
    "            rca = float(s_rca.split('_')[1])\n",
    "            syorca[skill][year][occ] = rca\n",
    "            syopmi[skill][year][occ] = math.log(rca)"
   ]
  },
  {
   "cell_type": "code",
   "execution_count": 4,
   "metadata": {},
   "outputs": [],
   "source": [
    "syloc = defaultdict(lambda:defaultdict(lambda:''))\n",
    "ysloc = defaultdict(lambda:defaultdict(lambda:''))\n",
    "for skill in syopmi:\n",
    "    for year in range(2010,2019):\n",
    "        if skill in ysjf[year]:\n",
    "            s=sum(ysjf[year][skill].values())\n",
    "            jp = dict((k,v/s) for k,v in ysjf[year][skill].items())\n",
    "            score =sum(jp[occ]*syopmi[skill][year][occ] for occ in syopmi[skill][year])\n",
    "            syloc[skill][year] = score\n",
    "            ysloc[year][skill] = score"
   ]
  },
  {
   "cell_type": "code",
   "execution_count": 5,
   "metadata": {},
   "outputs": [],
   "source": [
    "sypmi = defaultdict(lambda:defaultdict(lambda:0))\n",
    "yspmi = defaultdict(lambda:defaultdict(lambda:0))\n",
    "for skill in syopmi:\n",
    "    for year in syopmi[skill]:\n",
    "        sypmi[skill][year] = mean(syopmi[skill][year].values())\n",
    "        yspmi[year][skill] = mean(syopmi[skill][year].values())"
   ]
  },
  {
   "cell_type": "code",
   "execution_count": 10,
   "metadata": {},
   "outputs": [
    {
     "data": {
      "text/plain": [
       "[(10.279836793419939, 'chiropractic diagnosis'),\n",
       " (10.498786756908144, 'biopsy diagnosis'),\n",
       " (10.618023172828977, 'biomass fuel gasification systems'),\n",
       " (11.052145728826387, 'miner operator'),\n",
       " (11.073106959720812, 'molecular biology of cancer cells'),\n",
       " (11.109580782789022, 'musculoskeletal system correction'),\n",
       " (11.393319245043635, 'pex soldering'),\n",
       " (11.412786842103037, 'power thinning saws'),\n",
       " (11.974131497303636, 'stroke delimbers'),\n",
       " (12.351393769871462, 'quarrying methods')]"
      ]
     },
     "execution_count": 10,
     "metadata": {},
     "output_type": "execute_result"
    }
   ],
   "source": [
    "list(sorted([(mean(v.values()), k) for k,v in syloc.items()]))[-10:]"
   ]
  },
  {
   "cell_type": "code",
   "execution_count": 36,
   "metadata": {},
   "outputs": [
    {
     "data": {
      "text/plain": [
       "[(0.046465839687876515, 'communication skills'),\n",
       " (0.07659452976696385, 'teamwork / collaboration'),\n",
       " (0.08563559144101997, 'problem solving'),\n",
       " (0.09188677949586527, 'written communication'),\n",
       " (0.12942329471610037, 'verbal / oral communication'),\n",
       " (0.14865023938503028, 'organizational skills'),\n",
       " (0.16112572459511973, 'writing'),\n",
       " (0.16796595879028817, 'time management'),\n",
       " (0.18525524261765575, 'planning'),\n",
       " (0.1920570063367778, 'prioritizing tasks')]"
      ]
     },
     "execution_count": 36,
     "metadata": {},
     "output_type": "execute_result"
    }
   ],
   "source": [
    "list(sorted([(mean(v.values()), k) for k,v in syloc.items()]))[:10]"
   ]
  },
  {
   "cell_type": "code",
   "execution_count": 6,
   "metadata": {},
   "outputs": [],
   "source": [
    "sdr = defaultdict(lambda:defaultdict(lambda:0))\n",
    "for skill in syloc:\n",
    "    if 2018 in syloc[skill] and 2010 in syloc[skill]:\n",
    "        dr = syloc[skill][2018] - syloc[skill][2010]\n",
    "        sdr[skill] = dr\n",
    "sdr = dict(sorted(sdr.items(), key=operator.itemgetter(1)))"
   ]
  },
  {
   "cell_type": "code",
   "execution_count": 18,
   "metadata": {},
   "outputs": [
    {
     "data": {
      "text/plain": [
       "[('amnesia', -8.032983293452862),\n",
       " ('herniation', -7.610265218604008),\n",
       " ('mini cad', -7.288268375376505),\n",
       " ('musculoskeletal system disorders', -7.037464616287878),\n",
       " ('gselector', -6.9603226404229375),\n",
       " ('backing maneuvers', -6.340260540643247),\n",
       " ('play framework', -6.00338466916336),\n",
       " ('farm product marketing', -5.969486141624404),\n",
       " ('union election', -5.715294574958942),\n",
       " ('issuing store credit', -5.528667195180471)]"
      ]
     },
     "execution_count": 18,
     "metadata": {},
     "output_type": "execute_result"
    }
   ],
   "source": [
    "list(sdr.items())[:10]"
   ]
  },
  {
   "cell_type": "code",
   "execution_count": 19,
   "metadata": {},
   "outputs": [
    {
     "data": {
      "text/plain": [
       "[('lipitor', 7.9334986410015755),\n",
       " ('oracle cards', 7.047230392695633),\n",
       " ('biomass research', 6.764722038442161),\n",
       " ('procedure demonstration', 6.245525925393315),\n",
       " ('oil mining', 5.833806454135165),\n",
       " ('menorrhagia', 5.827950621769108),\n",
       " ('petroleum extraction', 5.654940771529436),\n",
       " ('boat deploying', 5.4059793481452605),\n",
       " ('geochemical surveys', 5.265602510541508),\n",
       " ('hair styling', 5.156252035069388)]"
      ]
     },
     "execution_count": 19,
     "metadata": {},
     "output_type": "execute_result"
    }
   ],
   "source": [
    "sorted(sdr.items(), key=operator.itemgetter(1), reverse=True)[:10]"
   ]
  },
  {
   "cell_type": "code",
   "execution_count": 29,
   "metadata": {},
   "outputs": [
    {
     "data": {
      "text/plain": [
       "(0.8003155627938159, 1.291085189500556)"
      ]
     },
     "execution_count": 29,
     "metadata": {},
     "output_type": "execute_result"
    }
   ],
   "source": [
    "syloc['python'][2010], syloc['python'][2018]"
   ]
  },
  {
   "cell_type": "code",
   "execution_count": 12,
   "metadata": {},
   "outputs": [],
   "source": [
    "pysloc= defaultdict(lambda:defaultdict(lambda:defaultdict(lambda:'')))\n",
    "psyloc = defaultdict(lambda:defaultdict(lambda:defaultdict(lambda:'')))\n",
    "for g in partition:\n",
    "    for skill in partition[g]:\n",
    "        if skill in syloc:\n",
    "            for year in syloc[skill]:\n",
    "                pysloc[g][year][skill] = syloc[skill][year]  \n",
    "                psyloc[g][skill][year] = syloc[skill][year]"
   ]
  },
  {
   "cell_type": "code",
   "execution_count": 13,
   "metadata": {},
   "outputs": [],
   "source": [
    "pyloc = defaultdict(lambda:defaultdict(lambda:0))\n",
    "for g in partition:\n",
    "    for year in pysloc[g]:\n",
    "        if year != 2019:\n",
    "            pyloc[g][year] = mean(pysloc[g][year].values())"
   ]
  },
  {
   "cell_type": "code",
   "execution_count": 10,
   "metadata": {},
   "outputs": [],
   "source": [
    "yfsloc = defaultdict(lambda:defaultdict(lambda:0))\n",
    "for year in range(2010,2019):\n",
    "    for skill in ysloc[year]:\n",
    "        if skill in skillset:\n",
    "            yfsloc[year][skill] = ysloc[year][skill]"
   ]
  },
  {
   "cell_type": "code",
   "execution_count": 11,
   "metadata": {},
   "outputs": [],
   "source": [
    "yloc = {}\n",
    "for year in range(2010,2019):\n",
    "    yloc[year] = mean(yfsloc[year].values())"
   ]
  },
  {
   "cell_type": "code",
   "execution_count": 14,
   "metadata": {},
   "outputs": [
    {
     "data": {
      "image/png": "[encoded data removed]",
      "text/plain": [
       "<Figure size 576x432 with 1 Axes>"
      ]
     },
     "metadata": {
      "needs_background": "light"
     },
     "output_type": "display_data"
    }
   ],
   "source": [
    "color = ['purple', 'pink', 'orange', 'brown', 'blue', 'red', 'green']\n",
    "labels = ['business and managerial skills', 'engineering, technical, and manual skills', \n",
    "          'computer and programming skills', 'clerical and analytical skills', \n",
    "          'scientific and research skills', 'medical and health skills']\n",
    "fig, ax = plt.subplots(figsize = (8,6))\n",
    "for g in pyloc:\n",
    "    x,y=zip(*pyloc[g].items())\n",
    "    plt.plot(x, y, color=color[g], label=labels[g])\n",
    "    \n",
    "x,y=zip(*yloc.items())\n",
    "plt.plot(x, y, color=color[6], label='all skills')\n",
    "plt.xlabel('year')\n",
    "plt.ylabel('Average Expected Skill-Job PMI')\n",
    "plt.legend(bbox_to_anchor=(1.0, 0.8))\n",
    "plt.savefig(\"/Users/ditong/Documents/skillProject/description/vis/SkillJobPmiChange.png\", bbox_inches='tight')"
   ]
  },
  {
   "cell_type": "code",
   "execution_count": 39,
   "metadata": {},
   "outputs": [],
   "source": [
    "pysloc= defaultdict(lambda:defaultdict(lambda:defaultdict(lambda:'')))\n",
    "psyloc = defaultdict(lambda:defaultdict(lambda:defaultdict(lambda:'')))\n",
    "for g in partition:\n",
    "    for skill in partition[g]:\n",
    "        if skill in syloc:\n",
    "            for year in syloc[skill]:\n",
    "                pysloc[g][year][skill] = syloc[skill][year]  \n",
    "                psyloc[g][skill][year] = syloc[skill][year]  "
   ]
  },
  {
   "cell_type": "code",
   "execution_count": 40,
   "metadata": {},
   "outputs": [],
   "source": [
    "psdr = defaultdict(lambda:defaultdict(lambda:0))\n",
    "for g in psyloc:\n",
    "    for skill in psyloc[g]:\n",
    "        if 2018 in syloc[skill] and 2010 in syloc[skill]:\n",
    "            dr = psyloc[g][skill][2018] - psyloc[g][skill][2010]\n",
    "            psdr[g][skill] = dr\n",
    "    psdr[g] = dict(sorted(psdr[g].items(), key=operator.itemgetter(1)))"
   ]
  },
  {
   "cell_type": "code",
   "execution_count": 47,
   "metadata": {},
   "outputs": [
    {
     "data": {
      "text/plain": [
       "[('metal detector monitoring', -4.893955363616522),\n",
       " ('passenger screening', -4.562299691683439),\n",
       " ('surveyor assistance', -4.2233414108921),\n",
       " ('physical ability assessment', -3.907854163323994),\n",
       " ('crop processes', -3.763828773693066),\n",
       " ('appliance construction', -2.797199695819623),\n",
       " ('sf-86', -2.7012785333517435),\n",
       " ('sailpoint identity and access management', -2.4287430673273986),\n",
       " ('pat-down searches', -2.30403238014108),\n",
       " ('titus (software)', -2.237133006508115)]"
      ]
     },
     "execution_count": 47,
     "metadata": {},
     "output_type": "execute_result"
    }
   ],
   "source": [
    "list(psdr[2].items())[:10]"
   ]
  },
  {
   "cell_type": "code",
   "execution_count": 48,
   "metadata": {},
   "outputs": [
    {
     "data": {
      "text/plain": [
       "[('activex', 1.948846007406),\n",
       " ('base station system (bss)', 2.0168179251323792),\n",
       " ('home energy rating', 2.0910349095631076),\n",
       " ('biological warfare', 2.241463476232576),\n",
       " ('netware 6', 2.255337890336995),\n",
       " ('tibco businessevents', 2.260486285475401),\n",
       " ('silicon graphics', 2.3688012930367384),\n",
       " ('ibm servers', 2.4965756147495375),\n",
       " ('security x-ray operation', 3.021954162134972),\n",
       " ('dendrite', 3.254642712875574)]"
      ]
     },
     "execution_count": 48,
     "metadata": {},
     "output_type": "execute_result"
    }
   ],
   "source": [
    "list(psdr[2].items())[-10:]"
   ]
  },
  {
   "cell_type": "code",
   "execution_count": 43,
   "metadata": {},
   "outputs": [
    {
     "data": {
      "text/plain": [
       "[('herniation', -7.610265218604008),\n",
       " ('musculoskeletal system disorders', -7.037464616287878),\n",
       " ('lasix', -4.67308543015972),\n",
       " ('diagnostic endoscopic procedures', -3.884725836625515),\n",
       " ('appliance fitting', -3.808747532266401),\n",
       " ('gynecologic disorders', -3.2630105047598974),\n",
       " ('mannitol', -3.2328901993307886),\n",
       " ('maintenance therapy', -2.911608104563081),\n",
       " ('aortic stenosis', -2.859075033018376),\n",
       " ('heartworm', -2.819970510694209)]"
      ]
     },
     "execution_count": 43,
     "metadata": {},
     "output_type": "execute_result"
    }
   ],
   "source": [
    "list(psdr[5].items())[:10]"
   ]
  },
  {
   "cell_type": "code",
   "execution_count": 44,
   "metadata": {},
   "outputs": [
    {
     "data": {
      "text/plain": [
       "[('salon industry knowledge', 2.114021022562763),\n",
       " ('psychosocial/psychiatry', 2.151166990703764),\n",
       " ('ingenix', 2.2277818850886106),\n",
       " ('nationwide health information network', 2.4357190276543834),\n",
       " ('x-ray review', 2.9057819203456052),\n",
       " ('rh factor', 2.9076549071841704),\n",
       " ('biotechnological product marketing', 2.990471165468676),\n",
       " ('rrt & crtt', 3.269759582402435),\n",
       " ('roentgen', 3.3190865656490702),\n",
       " ('psychology/behavioral/mental health', 3.631990806129201)]"
      ]
     },
     "execution_count": 44,
     "metadata": {},
     "output_type": "execute_result"
    }
   ],
   "source": [
    "list(psdr[5].items())[-10:]"
   ]
  }
 ],
 "metadata": {
  "kernelspec": {
   "display_name": "Python 3",
   "language": "python",
   "name": "python3"
  },
  "language_info": {
   "codemirror_mode": {
    "name": "ipython",
    "version": 3
   },
   "file_extension": ".py",
   "mimetype": "text/x-python",
   "name": "python",
   "nbconvert_exporter": "python",
   "pygments_lexer": "ipython3",
   "version": "3.7.3"
  }
 },
 "nbformat": 4,
 "nbformat_minor": 2
}
